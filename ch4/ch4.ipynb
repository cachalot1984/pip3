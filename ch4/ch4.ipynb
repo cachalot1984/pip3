{
 "metadata": {
  "name": "ch4"
 },
 "nbformat": 3,
 "nbformat_minor": 0,
 "worksheets": [
  {
   "cells": [
    {
     "cell_type": "code",
     "collapsed": false,
     "input": [
      "import math\n",
      "\n",
      "def heron(a, b, c):\n",
      "    s = (a + b + c) / 2\n",
      "    return math.sqrt(s * (s - a) * (s - b) * (s - c))\n",
      "\n",
      "heron(3, 4, 5)"
     ],
     "language": "python",
     "metadata": {},
     "outputs": [
      {
       "output_type": "pyout",
       "prompt_number": 8,
       "text": [
        "6.0"
       ]
      }
     ],
     "prompt_number": 8
    },
    {
     "cell_type": "code",
     "collapsed": true,
     "input": [
      "import string\n",
      "\n",
      "def letter_count(text, letters=string.ascii_letters):\n",
      "    letters = frozenset(letters)\n",
      "    count = 0\n",
      "    for char in text:\n",
      "        if char in letters:\n",
      "            count += 1\n",
      "    return count\n",
      "\n",
      "letter_count('hello, world')\n",
      "\n",
      "letter_count('hello, world', letters='aeiouAEIOU')"
     ],
     "language": "python",
     "metadata": {},
     "outputs": []
    },
    {
     "cell_type": "code",
     "collapsed": false,
     "input": [
      "def shorten(text, length=25, indicator='...'):\n",
      "    if len(text) > length:\n",
      "        text = text[:length-len(indicator)] + indicator\n",
      "    return text\n",
      "\n",
      "shorten('hello world')\n",
      "shorten('hello world', length=10, indicator='@')"
     ],
     "language": "python",
     "metadata": {},
     "outputs": [
      {
       "output_type": "pyout",
       "prompt_number": 4,
       "text": [
        "'hello wor@'"
       ]
      }
     ],
     "prompt_number": 4
    },
    {
     "cell_type": "code",
     "collapsed": false,
     "input": [
      "def append_if_even(x, lst=None):\n",
      "    lst = [] if lst is None else []\n",
      "    if x % 2 == 0:\n",
      "        lst.append(x)\n",
      "    return lst\n",
      "\n",
      "append_if_even(0)\n",
      "append_if_even(2)\n",
      "l = [10]\n",
      "append_if_even(4, l)\n",
      "append_if_even(6, l)"
     ],
     "language": "python",
     "metadata": {},
     "outputs": [
      {
       "output_type": "pyout",
       "prompt_number": 12,
       "text": [
        "[6]"
       ]
      }
     ],
     "prompt_number": 12
    },
    {
     "cell_type": "code",
     "collapsed": false,
     "input": [
      "def product(*arg):\n",
      "    result = 1\n",
      "    for n in arg:\n",
      "        result *= n\n",
      "    return result\n",
      "\n",
      "product(2, 3, 4)\n",
      "\n",
      "l = [4, 5, 6]\n",
      "product(*l)"
     ],
     "language": "python",
     "metadata": {},
     "outputs": [
      {
       "output_type": "pyout",
       "prompt_number": 19,
       "text": [
        "120"
       ]
      }
     ],
     "prompt_number": 19
    },
    {
     "cell_type": "code",
     "collapsed": false,
     "input": [
      "def sum_of_powers(*args, power=1):\n",
      "    result = 0\n",
      "    for arg in args:\n",
      "        result += arg ** power\n",
      "    return result\n",
      "\n",
      "sum_of_powers(1, 2, 3)\n",
      "sum_of_powers(1, 2, 3, power=2)"
     ],
     "language": "python",
     "metadata": {},
     "outputs": [
      {
       "output_type": "pyout",
       "prompt_number": 4,
       "text": [
        "14"
       ]
      }
     ],
     "prompt_number": 4
    },
    {
     "cell_type": "code",
     "collapsed": false,
     "input": [
      "def add_person_details(ssn, surname, **kwargs):\n",
      "    print('SSN = ', ssn)\n",
      "    print('    surname = ', surname)\n",
      "    for key in sorted(kwargs):\n",
      "        print('    {0} = {1}'.format(key, kwargs[key])\n",
      "              \n",
      "add_person_details(12345678, 'Luther', forname='Lexis')"
     ],
     "language": "python",
     "metadata": {},
     "outputs": [
      {
       "ename": "SyntaxError",
       "evalue": "invalid syntax (<ipython-input-7-1dc75dcbf861>, line 7)",
       "output_type": "pyerr",
       "traceback": [
        "\u001b[0;36m  File \u001b[0;32m\"<ipython-input-7-1dc75dcbf861>\"\u001b[0;36m, line \u001b[0;32m7\u001b[0m\n\u001b[0;31m    add_person_details(12345678, 'Luther', forname='Lexis')\u001b[0m\n\u001b[0m                     ^\u001b[0m\n\u001b[0;31mSyntaxError\u001b[0m\u001b[0;31m:\u001b[0m invalid syntax\n"
       ]
      }
     ],
     "prompt_number": 7
    },
    {
     "cell_type": "code",
     "collapsed": false,
     "input": [
      "elements = [(2, 12, 'Mg'), (1, 11, 'Na'), (1, 3, 'Li'), (2, 4, 'Be')]\n",
      "elements.sort()\n",
      "elements.sort(key=lambda e: (e[1], e[2]))\n",
      "elements"
     ],
     "language": "python",
     "metadata": {},
     "outputs": [
      {
       "output_type": "pyout",
       "prompt_number": 14,
       "text": [
        "[(1, 3, 'Li'), (2, 4, 'Be'), (1, 11, 'Na'), (2, 12, 'Mg')]"
       ]
      }
     ],
     "prompt_number": 14
    }
   ],
   "metadata": {}
  }
 ]
}