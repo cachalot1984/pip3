{
 "metadata": {
  "name": "ch4"
 }, 
 "nbformat": 2, 
 "worksheets": [
  {
   "cells": [
    {
     "cell_type": "code", 
     "collapsed": false, 
     "input": [
      "import math", 
      "", 
      "def heron(a, b, c):", 
      "    s = (a + b + c) / 2", 
      "    return math.sqrt(s * (s - a) * (s - b) * (s - c))", 
      "", 
      "heron(3, 4, 5)"
     ], 
     "language": "python", 
     "outputs": [
      {
       "output_type": "pyout", 
       "prompt_number": 8, 
       "text": [
        "6.0"
       ]
      }
     ], 
     "prompt_number": 8
    }, 
    {
     "cell_type": "code", 
     "collapsed": true, 
     "input": [], 
     "language": "python", 
     "outputs": []
    }
   ]
  }
 ]
}